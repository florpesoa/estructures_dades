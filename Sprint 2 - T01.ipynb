{
 "cells": [
  {
   "cell_type": "markdown",
   "id": "525d86a2",
   "metadata": {},
   "source": [
    "# SPRINT 2"
   ]
  },
  {
   "cell_type": "markdown",
   "id": "9bffafa1",
   "metadata": {
    "heading_collapsed": true
   },
   "source": [
    "### EXERCICI 1"
   ]
  },
  {
   "cell_type": "markdown",
   "id": "2fea88c3",
   "metadata": {
    "hidden": true
   },
   "source": [
    "**Crea una llista que agrupi els mesos de l'any en trimestres (1T: gener, febrer i marc; 2T: abril, maig, juny...) és a dir, una llista amb 4 llistas dins.**"
   ]
  },
  {
   "cell_type": "code",
   "execution_count": 1,
   "id": "2984fb76",
   "metadata": {
    "hidden": true
   },
   "outputs": [
    {
     "name": "stdout",
     "output_type": "stream",
     "text": [
      "[['Enero', 'Febrero', 'Marzo'], ['Abril', 'Mayo', 'Junio'], ['Julio', 'Agosto', 'Septiembre'], ['Octubre', 'Noviembre', 'Diciembre']]\n"
     ]
    }
   ],
   "source": [
    "T1=[\"Enero\", \"Febrero\", \"Marzo\"]\n",
    "T2=[\"Abril\", \"Mayo\", \"Junio\"]\n",
    "T3=[\"Julio\", \"Agosto\", \"Septiembre\"]\n",
    "T4=[\"Octubre\", \"Noviembre\", \"Diciembre\"]\n",
    "\n",
    "lista=[T1,T2,T3,T4]\n",
    "\n",
    "print (lista)"
   ]
  },
  {
   "cell_type": "markdown",
   "id": "36d3237e",
   "metadata": {
    "heading_collapsed": true
   },
   "source": [
    "### Exercici 2"
   ]
  },
  {
   "cell_type": "markdown",
   "id": "8d8a4aea",
   "metadata": {
    "hidden": true
   },
   "source": [
    "**Crea un codi que et permeti accedir a:**\n",
    "**-El segon mes del primer trimestre**\n",
    "**-Els mesos del primer trimestre**\n",
    "**-Setembre i octubre**"
   ]
  },
  {
   "cell_type": "code",
   "execution_count": 2,
   "id": "aaf184ca",
   "metadata": {
    "hidden": true
   },
   "outputs": [
    {
     "name": "stdout",
     "output_type": "stream",
     "text": [
      "Febrero\n"
     ]
    }
   ],
   "source": [
    "print(T1[1])"
   ]
  },
  {
   "cell_type": "code",
   "execution_count": 3,
   "id": "296dae0d",
   "metadata": {
    "hidden": true
   },
   "outputs": [
    {
     "name": "stdout",
     "output_type": "stream",
     "text": [
      "['Enero', 'Febrero', 'Marzo']\n"
     ]
    }
   ],
   "source": [
    "print(T1)"
   ]
  },
  {
   "cell_type": "code",
   "execution_count": 4,
   "id": "e09d72c2",
   "metadata": {
    "hidden": true
   },
   "outputs": [
    {
     "name": "stdout",
     "output_type": "stream",
     "text": [
      "Septiembre Octubre\n"
     ]
    }
   ],
   "source": [
    "print(T3[2], T4[0])"
   ]
  },
  {
   "cell_type": "markdown",
   "id": "ed9af2d8",
   "metadata": {
    "heading_collapsed": true
   },
   "source": [
    "### Exercici 3"
   ]
  },
  {
   "cell_type": "markdown",
   "id": "6defa716",
   "metadata": {
    "hidden": true
   },
   "source": [
    "**Crea una llista amb nombres desordenats i respon a les seguents preguntes:**\n",
    "- Quants numeros hi ha?\n",
    "- Quantes vegades apareix el numero 3\n",
    "- Quantes vegages apareixen els nombres 3 i 4?\n",
    "- Quin és el número més gran?\n",
    "- Quins són els 3 números més petits?\n",
    "- Quin és el rang d'aquesta llista?"
   ]
  },
  {
   "cell_type": "code",
   "execution_count": 5,
   "id": "90a95d88",
   "metadata": {
    "hidden": true
   },
   "outputs": [
    {
     "name": "stdout",
     "output_type": "stream",
     "text": [
      "El número total de elementos es:  7\n"
     ]
    }
   ],
   "source": [
    "lis=[5,20,3,15,4,7,13]\n",
    "print(\"El número total de elementos es: \", len(lis))"
   ]
  },
  {
   "cell_type": "code",
   "execution_count": 6,
   "id": "f6d555ce",
   "metadata": {
    "hidden": true
   },
   "outputs": [
    {
     "name": "stdout",
     "output_type": "stream",
     "text": [
      "La cantidad de veces que aparece 3 es:  1\n"
     ]
    }
   ],
   "source": [
    "print(\"La cantidad de veces que aparece 3 es: \", lis.count(3))"
   ]
  },
  {
   "cell_type": "code",
   "execution_count": 7,
   "id": "896005d3",
   "metadata": {
    "hidden": true
   },
   "outputs": [
    {
     "name": "stdout",
     "output_type": "stream",
     "text": [
      "La cantidad de veces que aparece 3 es 1 y la cantidad de veces que aparece 4 es 1\n"
     ]
    }
   ],
   "source": [
    "print(\"La cantidad de veces que aparece 3 es\", lis.count(3),\"y la cantidad de veces que aparece 4 es\",\n",
    "      lis.count(4))"
   ]
  },
  {
   "cell_type": "code",
   "execution_count": 8,
   "id": "6919941d",
   "metadata": {
    "hidden": true
   },
   "outputs": [
    {
     "name": "stdout",
     "output_type": "stream",
     "text": [
      "El número máximo de la lista es: 20\n"
     ]
    }
   ],
   "source": [
    "print(\"El número máximo de la lista es:\",max(lis))"
   ]
  },
  {
   "cell_type": "code",
   "execution_count": 9,
   "id": "db5a4409",
   "metadata": {
    "hidden": true
   },
   "outputs": [
    {
     "name": "stdout",
     "output_type": "stream",
     "text": [
      "El número más pequeño es:  3\n",
      "El 2do número más pequeño es:  4\n",
      "El 3er número más pequeño es:  5\n"
     ]
    }
   ],
   "source": [
    "lis.sort()\n",
    "lis   # primero ordeno de menor a mayor\n",
    "\n",
    "print (\"El número más pequeño es: \", lis[0])\n",
    "print (\"El 2do número más pequeño es: \", lis[1])\n",
    "print (\"El 3er número más pequeño es: \", lis[2])\n"
   ]
  },
  {
   "cell_type": "code",
   "execution_count": 10,
   "id": "9bd7090d",
   "metadata": {
    "hidden": true
   },
   "outputs": [
    {
     "data": {
      "text/plain": [
       "range(0, 7)"
      ]
     },
     "execution_count": 10,
     "metadata": {},
     "output_type": "execute_result"
    }
   ],
   "source": [
    "nuevalista=range(7)\n",
    "nuevalista"
   ]
  },
  {
   "cell_type": "markdown",
   "id": "70a45332",
   "metadata": {},
   "source": [
    "### Exercici 4"
   ]
  },
  {
   "cell_type": "markdown",
   "id": "7a24c14a",
   "metadata": {},
   "source": [
    "- Crea un diccionari de la següent forma i respon a les preguntes:\n",
    "compra = {\"Pomes\": {\"qty\": 5, \"€\": 0.42}, \"Peres\" : {\"Qty\": 3, \"€\": 0.66} }"
   ]
  },
  {
   "cell_type": "code",
   "execution_count": 11,
   "id": "6cdda12d",
   "metadata": {},
   "outputs": [
    {
     "data": {
      "text/plain": [
       "{'Pomes': {'Qty': 5, '€': 0.42}, 'Peres': {'Qty': 3, '€': 0.66}}"
      ]
     },
     "execution_count": 11,
     "metadata": {},
     "output_type": "execute_result"
    }
   ],
   "source": [
    "compra = {\n",
    "    \"Pomes\": {\"Qty\": 5, \"€\": 0.42}, \n",
    "    \"Peres\" : {\"Qty\": 3, \"€\": 0.66} \n",
    "        }\n",
    "compra"
   ]
  },
  {
   "cell_type": "markdown",
   "id": "df97dace",
   "metadata": {},
   "source": [
    "**Afegeix alguna fruita mes**"
   ]
  },
  {
   "cell_type": "code",
   "execution_count": 12,
   "id": "bff11fab",
   "metadata": {},
   "outputs": [
    {
     "data": {
      "text/plain": [
       "{'Pomes': {'Qty': 5, '€': 0.42},\n",
       " 'Peres': {'Qty': 3, '€': 0.66},\n",
       " 'Fresas': {'Qty': 2, '€': 0.5}}"
      ]
     },
     "execution_count": 12,
     "metadata": {},
     "output_type": "execute_result"
    }
   ],
   "source": [
    "compra[\"Fresas\"] = {\"Qty\":2, \"€\": 0.50}\n",
    "compra\n"
   ]
  },
  {
   "cell_type": "markdown",
   "id": "837960b0",
   "metadata": {},
   "source": [
    "**Quant han costat les peres en total?**"
   ]
  },
  {
   "cell_type": "code",
   "execution_count": 20,
   "id": "bc335e49",
   "metadata": {},
   "outputs": [
    {
     "name": "stdout",
     "output_type": "stream",
     "text": [
      "El precio total de las peras es:  1.98\n"
     ]
    }
   ],
   "source": [
    "print('El precio total de las peras es: ',compra[\"Peres\"][\"Qty\"]*compra[\"Peres\"][\"€\"])"
   ]
  },
  {
   "cell_type": "markdown",
   "id": "43802191",
   "metadata": {},
   "source": [
    "**Quina és la fruita més cara?**"
   ]
  },
  {
   "cell_type": "code",
   "execution_count": 30,
   "id": "ba6df392",
   "metadata": {},
   "outputs": [
    {
     "name": "stdout",
     "output_type": "stream",
     "text": [
      "La fruta más cara es: Peres\n"
     ]
    }
   ],
   "source": [
    "mas_cara=max(compra.keys(), key=lambda k:compra[k]['€'])\n",
    "print('La fruta más cara es:',mas_cara)\n"
   ]
  }
 ],
 "metadata": {
  "kernelspec": {
   "display_name": "Python 3 (ipykernel)",
   "language": "python",
   "name": "python3"
  },
  "language_info": {
   "codemirror_mode": {
    "name": "ipython",
    "version": 3
   },
   "file_extension": ".py",
   "mimetype": "text/x-python",
   "name": "python",
   "nbconvert_exporter": "python",
   "pygments_lexer": "ipython3",
   "version": "3.10.5"
  }
 },
 "nbformat": 4,
 "nbformat_minor": 5
}
